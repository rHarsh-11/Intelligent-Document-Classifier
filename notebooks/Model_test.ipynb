{
 "cells": [
  {
   "cell_type": "code",
   "execution_count": 9,
   "id": "0f5aef67-edb3-4161-9b70-6a870793f593",
   "metadata": {},
   "outputs": [],
   "source": [
    "import joblib\n",
    "import nltk\n",
    "from nltk.corpus import stopwords\n",
    "from nltk.tokenize import word_tokenize\n",
    "from sklearn.datasets import fetch_20newsgroups"
   ]
  },
  {
   "cell_type": "code",
   "execution_count": 10,
   "id": "b0537dc2-245f-4b39-bdd2-45e8781b50a7",
   "metadata": {},
   "outputs": [],
   "source": [
    "loaded_model = joblib.load(\"document_classifier_model.pkl\")\n",
    "loaded_vectorizer = joblib.load(\"tfidf_vectorizer.pkl\")\n",
    "newsgroups_data = fetch_20newsgroups(subset='all', shuffle=True, random_state=42)"
   ]
  },
  {
   "cell_type": "code",
   "execution_count": 6,
   "id": "edfcd99c-dd61-47f0-b1c2-1e667cb003d5",
   "metadata": {},
   "outputs": [],
   "source": [
    "stop_words = set(stopwords.words('english'))\n",
    "\n",
    "def preprocess_text(text):\n",
    "    text = text.lower()\n",
    "    tokens = word_tokenize(text)\n",
    "    tokens = [word for word in tokens if word.isalpha() and word not in stop_words]\n",
    "    return ' '.join(tokens)"
   ]
  },
  {
   "cell_type": "code",
   "execution_count": 15,
   "id": "b0d85d44-a89b-4668-bec7-38132c01e792",
   "metadata": {},
   "outputs": [
    {
     "name": "stdout",
     "output_type": "stream",
     "text": [
      "comp.graphics\n",
      "talk.politics.misc\n",
      "sci.space\n"
     ]
    }
   ],
   "source": [
    "def predict_category_loaded(text):\n",
    "    clean = preprocess_text(text)\n",
    "    vec = loaded_vectorizer.transform([clean])\n",
    "    pred = loaded_model.predict(vec)[0]\n",
    "    return newsgroups_data.target_names[pred]\n",
    "\n",
    "print(predict_category_loaded(\"I just upgraded my PC with the latest NVIDIA graphics card for better gaming performance.\")) \n",
    "print(predict_category_loaded(\"The government passed a new bill to improve the healthcare system in rural areas.\"))          \n",
    "print(predict_category_loaded(\"Astronomers discovered a potentially habitable exoplanet 40 light years away.\"))              "
   ]
  },
  {
   "cell_type": "code",
   "execution_count": null,
   "id": "2c840560-568e-44f7-9703-c0e77d685efe",
   "metadata": {},
   "outputs": [],
   "source": []
  }
 ],
 "metadata": {
  "kernelspec": {
   "display_name": "Python 3 (ipykernel)",
   "language": "python",
   "name": "python3"
  },
  "language_info": {
   "codemirror_mode": {
    "name": "ipython",
    "version": 3
   },
   "file_extension": ".py",
   "mimetype": "text/x-python",
   "name": "python",
   "nbconvert_exporter": "python",
   "pygments_lexer": "ipython3",
   "version": "3.10.7"
  }
 },
 "nbformat": 4,
 "nbformat_minor": 5
}
